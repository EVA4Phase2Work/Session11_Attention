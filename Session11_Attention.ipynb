{
  "nbformat": 4,
  "nbformat_minor": 0,
  "metadata": {
    "colab": {
      "name": "Attention_is_All_You_Need.ipynb",
      "provenance": [],
      "collapsed_sections": []
    },
    "kernelspec": {
      "name": "python3",
      "display_name": "Python 3"
    },
    "accelerator": "GPU"
  },
  "cells": [
    {
      "cell_type": "markdown",
      "metadata": {
        "id": "IbIjrZKhqGMv"
      },
      "source": [
        "**Introduction to Attention**"
      ]
    },
    {
      "cell_type": "markdown",
      "metadata": {
        "id": "5-RzKoUBqO4c"
      },
      "source": [
        "Similar to the Convolutional Sequence-to-Sequence model, the Transformer does not use any recurrence. It also does not use any convolutional layers. Instead the model is entirely made up of linear layers, attention mechanisms and normalization."
      ]
    },
    {
      "cell_type": "markdown",
      "metadata": {
        "id": "yeVxzaqkqUft"
      },
      "source": [
        "We make all of these changes as they closely follow BERT's set-up and the majority of Transformer variants use a similar set-up.\n",
        "\n"
      ]
    },
    {
      "cell_type": "markdown",
      "metadata": {
        "id": "zyp2Im3cqXI4"
      },
      "source": [
        "## Preparing the Data\n",
        "As always, let's import all the required modules and set the random seeds for reproducability."
      ]
    },
    {
      "cell_type": "code",
      "metadata": {
        "id": "-VmwFOaVpq7D"
      },
      "source": [
        "import torch\n",
        "import torch.nn as nn\n",
        "import torch.optim as optim\n",
        "\n",
        "import torchtext\n",
        "from torchtext.datasets import TranslationDataset, Multi30k\n",
        "from torchtext.data import Field, BucketIterator\n",
        "\n",
        "import matplotlib.pyplot as plt\n",
        "import matplotlib.ticker as ticker\n",
        "\n",
        "import spacy\n",
        "import numpy as np\n",
        "\n",
        "import random\n",
        "import math\n",
        "import time"
      ],
      "execution_count": null,
      "outputs": []
    },
    {
      "cell_type": "code",
      "metadata": {
        "id": "_Q5EY46Qqwbq"
      },
      "source": [
        "SEED = 1234\n",
        "\n",
        "random.seed(SEED)\n",
        "np.random.seed(SEED)\n",
        "torch.manual_seed(SEED)\n",
        "torch.cuda.manual_seed(SEED)\n",
        "torch.backends.cudnn.deterministic = True"
      ],
      "execution_count": null,
      "outputs": []
    },
    {
      "cell_type": "markdown",
      "metadata": {
        "id": "OOeB-PWyq-yN"
      },
      "source": [
        "We'll then create our tokenizers as before.\n",
        "\n"
      ]
    },
    {
      "cell_type": "code",
      "metadata": {
        "id": "h41UenRFrWDp"
      },
      "source": [
        "!pip install spacy && python -m spacy download en "
      ],
      "execution_count": null,
      "outputs": []
    },
    {
      "cell_type": "code",
      "metadata": {
        "id": "8R_lhO3OQYKf"
      },
      "source": [
        "!pip install spacy && python -m spacy download de "
      ],
      "execution_count": null,
      "outputs": []
    },
    {
      "cell_type": "code",
      "metadata": {
        "id": "MX2YLIzOq_P2"
      },
      "source": [
        "spacy_de = spacy.load('de')\n",
        "spacy_en = spacy.load('en')"
      ],
      "execution_count": null,
      "outputs": []
    },
    {
      "cell_type": "code",
      "metadata": {
        "id": "T4m0qHBhsAFU"
      },
      "source": [
        "def tokenize_de(text):\n",
        "    \"\"\"\n",
        "    Tokenizes German text from a string into a list of strings\n",
        "    \"\"\"\n",
        "    return [tok.text for tok in spacy_de.tokenizer(text)]\n",
        "\n",
        "def tokenize_en(text):\n",
        "    \"\"\"\n",
        "    Tokenizes English text from a string into a list of strings\n",
        "    \"\"\"\n",
        "    return [tok.text for tok in spacy_en.tokenizer(text)]"
      ],
      "execution_count": null,
      "outputs": []
    },
    {
      "cell_type": "markdown",
      "metadata": {
        "id": "jY4DxmSOrzTE"
      },
      "source": [
        "\n",
        "Our fields are the same as the previous notebook. The model expects data to be fed in with the batch dimension first, so we use batch_first = True."
      ]
    },
    {
      "cell_type": "code",
      "metadata": {
        "id": "gCVE32qPrzun"
      },
      "source": [
        "SRC = Field(tokenize = tokenize_de, \n",
        "            init_token = '<sos>', \n",
        "            eos_token = '<eos>', \n",
        "            lower = True, \n",
        "            batch_first = True)\n",
        "\n",
        "TRG = Field(tokenize = tokenize_en, \n",
        "            init_token = '<sos>', \n",
        "            eos_token = '<eos>', \n",
        "            lower = True, \n",
        "            batch_first = True)"
      ],
      "execution_count": null,
      "outputs": []
    },
    {
      "cell_type": "markdown",
      "metadata": {
        "id": "dydHbS9osNnK"
      },
      "source": [
        "We then load the Multi30k dataset and build the vocabulary."
      ]
    },
    {
      "cell_type": "code",
      "metadata": {
        "id": "lIqIga86sGye"
      },
      "source": [
        "\n",
        "train_data, valid_data, test_data = Multi30k.splits(exts = ('.de', '.en'), \n",
        "                                                    fields = (SRC, TRG))"
      ],
      "execution_count": null,
      "outputs": []
    },
    {
      "cell_type": "code",
      "metadata": {
        "id": "rYpF2JRlsUU9"
      },
      "source": [
        "SRC.build_vocab(train_data, min_freq = 2)\n",
        "TRG.build_vocab(train_data, min_freq = 2)"
      ],
      "execution_count": null,
      "outputs": []
    },
    {
      "cell_type": "markdown",
      "metadata": {
        "id": "8aooDSjEsW8Q"
      },
      "source": [
        "### Here define the device and the data iterator."
      ]
    },
    {
      "cell_type": "code",
      "metadata": {
        "id": "nD9J5jP7sZUN"
      },
      "source": [
        "device = torch.device('cuda' if torch.cuda.is_available() else 'cpu')\n"
      ],
      "execution_count": null,
      "outputs": []
    },
    {
      "cell_type": "code",
      "metadata": {
        "id": "FRF57JP5sb7-"
      },
      "source": [
        "BATCH_SIZE = 128\n",
        "\n",
        "train_iterator, valid_iterator, test_iterator = BucketIterator.splits(\n",
        "    (train_data, valid_data, test_data), \n",
        "     batch_size = BATCH_SIZE,\n",
        "     device = device)"
      ],
      "execution_count": null,
      "outputs": []
    },
    {
      "cell_type": "markdown",
      "metadata": {
        "id": "XYpnGxVCsdu1"
      },
      "source": [
        "## Building the Model\n",
        "Next, we'll build the model. Like previous notebooks it is made up of an encoder and a decoder, with the encoder encoding the input/source sentence (in German) into context vector and the decoder then decoding this context vector to output our output/target sentence (in English)."
      ]
    },
    {
      "cell_type": "markdown",
      "metadata": {
        "id": "wE1CK1uZsh5x"
      },
      "source": [
        "### Encoder\n",
        "Similar to the ConvSeq2Seq model, the Transformer's encoder does not attempt to compress the entire source sentence, $X = (x_1, ... ,x_n)$, into a single context vector, $z$. Instead it produces a sequence of context vectors, $Z = (z_1, ... , z_n)$. So, if our input sequence was 5 tokens long we would have $Z = (z_1, z_2, z_3, z_4, z_5)$. Why do we call this a sequence of context vectors and not a sequence of hidden states? A hidden state at time $t$ in an RNN has only seen tokens $x_t$ and all the tokens before it. However, each context vector here has seen all tokens at all positions within the input sequence."
      ]
    },
    {
      "cell_type": "markdown",
      "metadata": {
        "id": "j2EOUkBysluv"
      },
      "source": [
        "![image.png](data:image/png;base64,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)"
      ]
    },
    {
      "cell_type": "markdown",
      "metadata": {
        "id": "r2UVCGlZst0d"
      },
      "source": [
        "First, the tokens are passed through a standard embedding layer. Next, as the model has no recurrent it has no idea about the order of the tokens within the sequence. We solve this by using a second embedding layer called a positional embedding layer. This is a standard embedding layer where the input is not the token itself but the position of the token within the sequence, starting with the first token, the <sos> (start of sequence) token, in position 0. The position embedding has a \"vocabulary\" size of 100, which means our model can accept sentences up to 100 tokens long. This can be increased if we want to handle longer sentences.\n",
        "\n",
        "The original Transformer implementation from the Attention is All You Need paper does not learn positional embeddings. Instead it uses a fixed static embedding. Modern Transformer architectures, like BERT, use positional embeddings instead, hence we have decided to use them in these tutorials. Check out this section to read more about the positional embeddings used in the original Transformer model.\n",
        "\n",
        "Next, the token and positional embeddings are elementwise summed together to get a vector which contains information about the token and also its position with in the sequence. However, before they are summed, the token embeddings are multiplied by a scaling factor which is $\\sqrt{d_{model}}$, where $d_{model}$ is the hidden dimension size, hid_dim. This supposedly reduces variance in the embeddings and the model is difficult to train reliably without this scaling factor. Dropout is then applied to the combined embeddings.\n",
        "\n",
        "The combined embeddings are then passed through $N$ encoder layers to get $Z$, which is then output and can be used by the decoder.\n",
        "\n",
        "The source mask, src_mask, is simply the same shape as the source sentence but has a value of 1 when the token in the source sentence is not a <pad> token and 0 when it is a <pad> token. This is used in the encoder layers to mask the multi-head attention mechanisms, which are used to calculate and apply attention over the source sentence, so the model does not pay attention to <pad> tokens, which contain no useful information."
      ]
    },
    {
      "cell_type": "code",
      "metadata": {
        "id": "das-bARJsexR"
      },
      "source": [
        "class Encoder(nn.Module):\n",
        "    def __init__(self, \n",
        "                 input_dim, \n",
        "                 hid_dim, \n",
        "                 n_layers, \n",
        "                 n_heads, \n",
        "                 pf_dim,\n",
        "                 dropout, \n",
        "                 device,\n",
        "                 max_length = 100):\n",
        "        super().__init__()\n",
        "\n",
        "        self.device = device\n",
        "        \n",
        "        self.tok_embedding = nn.Embedding(input_dim, hid_dim)\n",
        "        self.pos_embedding = nn.Embedding(max_length, hid_dim)\n",
        "        \n",
        "        self.layers = nn.ModuleList([EncoderLayer(hid_dim, \n",
        "                                                  n_heads, \n",
        "                                                  pf_dim,\n",
        "                                                  dropout, \n",
        "                                                  device) \n",
        "                                     for _ in range(n_layers)])\n",
        "        \n",
        "        self.dropout = nn.Dropout(dropout)\n",
        "        \n",
        "        self.scale = torch.sqrt(torch.FloatTensor([hid_dim])).to(device)\n",
        "        \n",
        "    def forward(self, src, src_mask):\n",
        "        \n",
        "        #src = [batch size, src len]\n",
        "        #src_mask = [batch size, src len]\n",
        "        \n",
        "        batch_size = src.shape[0]\n",
        "        src_len = src.shape[1]\n",
        "        \n",
        "        pos = torch.arange(0, src_len).unsqueeze(0).repeat(batch_size, 1).to(self.device)\n",
        "        \n",
        "        #pos = [batch size, src len]\n",
        "        \n",
        "        src = self.dropout((self.tok_embedding(src) * self.scale) + self.pos_embedding(pos))\n",
        "        \n",
        "        #src = [batch size, src len, hid dim]\n",
        "        \n",
        "        for layer in self.layers:\n",
        "            src = layer(src, src_mask)\n",
        "            \n",
        "        #src = [batch size, src len, hid dim]\n",
        "            \n",
        "        return src"
      ],
      "execution_count": null,
      "outputs": []
    },
    {
      "cell_type": "markdown",
      "metadata": {
        "id": "U1fCdluds02W"
      },
      "source": [
        "### Encoder Layer\n",
        "The encoder layers are where all of the \"meat\" of the encoder is contained. We first pass the source sentence and its mask into the multi-head attention layer, then perform dropout on it, apply a residual connection and pass it through a Layer Normalization layer. We then pass it through a position-wise feedforward layer and then, again, apply dropout, a residual connection and then layer normalization to get the output of this layer which is fed into the next layer. The parameters are not shared between layers.\n",
        "\n",
        "The mutli head attention layer is used by the encoder layer to attend to the source sentence, i.e. it is calculating and applying attention over itself instead of another sequence, hence we call it self attention.\n",
        "\n",
        "This article goes into more detail about layer normalization, but the gist is that it normalizes the values of the features, i.e. across the hidden dimension, so each feature has a mean of 0 and a standard deviation of 1. This allows neural networks with a larger number of layers, like the Transformer, to be trained easier."
      ]
    },
    {
      "cell_type": "code",
      "metadata": {
        "id": "BnBIca30s1rc"
      },
      "source": [
        "class EncoderLayer(nn.Module):\n",
        "    def __init__(self, \n",
        "                 hid_dim, \n",
        "                 n_heads, \n",
        "                 pf_dim,  \n",
        "                 dropout, \n",
        "                 device):\n",
        "        super().__init__()\n",
        "        \n",
        "        self.self_attn_layer_norm = nn.LayerNorm(hid_dim)\n",
        "        self.ff_layer_norm = nn.LayerNorm(hid_dim)\n",
        "        self.self_attention = MultiHeadAttentionLayer(hid_dim, n_heads, dropout, device)\n",
        "        self.positionwise_feedforward = PositionwiseFeedforwardLayer(hid_dim, \n",
        "                                                                     pf_dim, \n",
        "                                                                     dropout)\n",
        "        self.dropout = nn.Dropout(dropout)\n",
        "        \n",
        "    def forward(self, src, src_mask):\n",
        "        \n",
        "        #src = [batch size, src len, hid dim]\n",
        "        #src_mask = [batch size, src len]\n",
        "                \n",
        "        #self attention\n",
        "        _src, _ = self.self_attention(src, src, src, src_mask)\n",
        "        \n",
        "        #dropout, residual connection and layer norm\n",
        "        src = self.self_attn_layer_norm(src + self.dropout(_src))\n",
        "        \n",
        "        #src = [batch size, src len, hid dim]\n",
        "        \n",
        "        #positionwise feedforward\n",
        "        _src = self.positionwise_feedforward(src)\n",
        "        \n",
        "        #dropout, residual and layer norm\n",
        "        src = self.ff_layer_norm(src + self.dropout(_src))\n",
        "        \n",
        "        #src = [batch size, src len, hid dim]\n",
        "        \n",
        "        return src"
      ],
      "execution_count": null,
      "outputs": []
    },
    {
      "cell_type": "markdown",
      "metadata": {
        "id": "EMajMnOfs9mP"
      },
      "source": [
        "### Mutli Head Attention Layer\n"
      ]
    },
    {
      "cell_type": "markdown",
      "metadata": {
        "id": "FMsG8MEytJE4"
      },
      "source": [
        "![image.png](data:image/png;base64,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)"
      ]
    },
    {
      "cell_type": "markdown",
      "metadata": {
        "id": "nv4wLC5otQvn"
      },
      "source": [
        "Attention can be though of as queries, keys and values - where the query is used with the key to get an attention vector (usually the output of a softmax operation and has all values between 0 and 1 which sum to 1) which is then used to get a weighted sum of the values.\n",
        "\n",
        "The Transformer uses scaled dot-product attention, where the query and key are combined by taking the dot product between them, then applying the softmax operation and scaling by $d_k$ before finally then multiplying by the value. $d_k$ is the head dimension, head_dim, which we will shortly explain further.\n",
        "\n",
        "$$ \\text{Attention}(Q, K, V) = \\text{Softmax} \\big( \\frac{QK^T}{\\sqrt{d_k}} \\big)V $$\n",
        "This is similar to standard dot product attention but is scaled by $d_k$, which the paper states is used to stop the results of the dot products growing large, causing gradients to become too small.\n",
        "\n",
        "However, the scaled dot-product attention isn't simply applied to the queries, keys and values. Instead of doing a single attention application the queries, keys and values have their hid_dim split into $h$ heads and the scaled dot-product attention is calculated over all heads in parallel. This means instead of paying attention to one concept per attention application, we pay attention to $h$. We then re-combine the heads into their hid_dim shape, thus each hid_dim is potentially paying attention to $h$ different concepts.\n",
        "\n",
        "$$ \\text{MultiHead}(Q, K, V) = \\text{Concat}(\\text{head}_1,...,\\text{head}_h)W^O $$$$\\text{head}_i = \\text{Attention}(QW_i^Q, KW_i^K, VW_i^V) $$\n",
        "$W^O$ is the linear layer applied at the end of the multi-head attention layer, fc. $W^Q, W^K, W^V$ are the linear layers fc_q, fc_k and fc_v.\n",
        "\n",
        "Walking through the module, first we calculate $QW^Q$, $KW^K$ and $VW^V$ with the linear layers, fc_q, fc_k and fc_v, to give us Q, K and V. Next, we split the hid_dim of the query, key and value into n_heads using .view and correctly permute them so they can be multiplied together. We then calculate the energy (the un-normalized attention) by multiplying Q and K together and scaling it by the square root of head_dim, which is calulated as hid_dim // n_heads. We then mask the energy so we do not pay attention over any elements of the sequeuence we shouldn't, then apply the softmax and dropout. We then apply the attention to the value heads, V, before combining the n_heads together. Finally, we multiply this $W^O$, represented by fc_o.\n",
        "\n",
        "Note that in our implementation the lengths of the keys and values are always the same, thus when matrix multiplying the output of the softmax, attention, with V we will always have valid dimension sizes for matrix multiplication. This multiplication is carried out using torch.matmul which, when both tensors are >2-dimensional, does a batched matrix multiplication over the last two dimensions of each tensor. This will be a [query len, key len] x [value len, head dim] batched matrix multiplication over the batch size and each head which provides the [batch size, n heads, query len, head dim] result.\n",
        "\n",
        "One thing that looks strange at first is that dropout is applied directly to the attention. This means that our attention vector will most probably not sum to 1 and we may pay full attention to a token but the attention over that token is set to 0 by dropout. This is never explained, or even mentioned, in the paper however is used by the official implementation and every Transformer implementation since, including BERT."
      ]
    },
    {
      "cell_type": "code",
      "metadata": {
        "id": "tKW5dRMbs_8P"
      },
      "source": [
        "class MultiHeadAttentionLayer(nn.Module):\n",
        "    def __init__(self, hid_dim, n_heads, dropout, device):\n",
        "        super().__init__()\n",
        "        \n",
        "        assert hid_dim % n_heads == 0\n",
        "        \n",
        "        self.hid_dim = hid_dim\n",
        "        self.n_heads = n_heads\n",
        "        self.head_dim = hid_dim // n_heads\n",
        "        \n",
        "        self.fc_q = nn.Linear(hid_dim, hid_dim)\n",
        "        self.fc_k = nn.Linear(hid_dim, hid_dim)\n",
        "        self.fc_v = nn.Linear(hid_dim, hid_dim)\n",
        "        \n",
        "        self.fc_o = nn.Linear(hid_dim, hid_dim)\n",
        "        \n",
        "        self.dropout = nn.Dropout(dropout)\n",
        "        \n",
        "        self.scale = torch.sqrt(torch.FloatTensor([self.head_dim])).to(device)\n",
        "        \n",
        "    def forward(self, query, key, value, mask = None):\n",
        "        \n",
        "        batch_size = query.shape[0]\n",
        "        \n",
        "        #query = [batch size, query len, hid dim]\n",
        "        #key = [batch size, key len, hid dim]\n",
        "        #value = [batch size, value len, hid dim]\n",
        "                \n",
        "        Q = self.fc_q(query)\n",
        "        K = self.fc_k(key)\n",
        "        V = self.fc_v(value)\n",
        "        \n",
        "        #Q = [batch size, query len, hid dim]\n",
        "        #K = [batch size, key len, hid dim]\n",
        "        #V = [batch size, value len, hid dim]\n",
        "                \n",
        "        Q = Q.view(batch_size, -1, self.n_heads, self.head_dim).permute(0, 2, 1, 3)\n",
        "        K = K.view(batch_size, -1, self.n_heads, self.head_dim).permute(0, 2, 1, 3)\n",
        "        V = V.view(batch_size, -1, self.n_heads, self.head_dim).permute(0, 2, 1, 3)\n",
        "        \n",
        "        #Q = [batch size, n heads, query len, head dim]\n",
        "        #K = [batch size, n heads, key len, head dim]\n",
        "        #V = [batch size, n heads, value len, head dim]\n",
        "                \n",
        "        energy = torch.matmul(Q, K.permute(0, 1, 3, 2)) / self.scale\n",
        "        \n",
        "        #energy = [batch size, n heads, query len, key len]\n",
        "        \n",
        "        if mask is not None:\n",
        "            energy = energy.masked_fill(mask == 0, -1e10)\n",
        "        \n",
        "        attention = torch.softmax(energy, dim = -1)\n",
        "                \n",
        "        #attention = [batch size, n heads, query len, key len]\n",
        "                \n",
        "        x = torch.matmul(self.dropout(attention), V)\n",
        "        \n",
        "        #x = [batch size, n heads, query len, head dim]\n",
        "        \n",
        "        x = x.permute(0, 2, 1, 3).contiguous()\n",
        "        \n",
        "        #x = [batch size, query len, n heads, head dim]\n",
        "        \n",
        "        x = x.view(batch_size, -1, self.hid_dim)\n",
        "        \n",
        "        #x = [batch size, query len, hid dim]\n",
        "        \n",
        "        x = self.fc_o(x)\n",
        "        \n",
        "        #x = [batch size, query len, hid dim]\n",
        "        \n",
        "        return x, attention"
      ],
      "execution_count": null,
      "outputs": []
    },
    {
      "cell_type": "markdown",
      "metadata": {
        "id": "Qc3nSRN8tX85"
      },
      "source": [
        "### Position-wise Feedforward Layer\n",
        "The other main block inside the encoder layer is the position-wise feedforward layer This is relatively simple compared to the multi-head attention layer. The input is transformed from hid_dim to pf_dim, where pf_dim is usually a lot larger than hid_dim. The original Transformer used a hid_dim of 512 and a pf_dim of 2048. The ReLU activation function and dropout are applied before it is transformed back into a hid_dim representation.\n",
        "\n",
        "Why is this used? Unfortunately, it is never explained in the paper.\n",
        "\n",
        "BERT uses the GELU activation function, which can be used by simply switching torch.relu for F.gelu. Why did they use GELU? Again, it is never explained."
      ]
    },
    {
      "cell_type": "code",
      "metadata": {
        "id": "X-hM5zNYtVO0"
      },
      "source": [
        "class PositionwiseFeedforwardLayer(nn.Module):\n",
        "    def __init__(self, hid_dim, pf_dim, dropout):\n",
        "        super().__init__()\n",
        "        \n",
        "        self.fc_1 = nn.Linear(hid_dim, pf_dim)\n",
        "        self.fc_2 = nn.Linear(pf_dim, hid_dim)\n",
        "        \n",
        "        self.dropout = nn.Dropout(dropout)\n",
        "        \n",
        "    def forward(self, x):\n",
        "        \n",
        "        #x = [batch size, seq len, hid dim]\n",
        "        \n",
        "        x = self.dropout(torch.relu(self.fc_1(x)))\n",
        "        \n",
        "        #x = [batch size, seq len, pf dim]\n",
        "        \n",
        "        x = self.fc_2(x)\n",
        "        \n",
        "        #x = [batch size, seq len, hid dim]\n",
        "        \n",
        "        return x"
      ],
      "execution_count": null,
      "outputs": []
    },
    {
      "cell_type": "markdown",
      "metadata": {
        "id": "XO1fuj7jtdqh"
      },
      "source": [
        "### Decoder\n",
        "The objective of the decoder is to take the encoded representation of the source sentence, $Z$, and convert it into predicted tokens in the target sentence, $\\hat{Y}$. We then compare $\\hat{Y}$ with the actual tokens in the target sentence, $Y$, to calculate our loss, which will be used to calculate the gradients of our parameters and then use our optimizer to update our weights in order to improve our predictions.\n",
        "\n"
      ]
    },
    {
      "cell_type": "markdown",
      "metadata": {
        "id": "vzCDnaEstf3U"
      },
      "source": [
        "![image.png](data:image/png;base64,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)"
      ]
    },
    {
      "cell_type": "markdown",
      "metadata": {
        "id": "9XBvjmqftnPW"
      },
      "source": [
        "The decoder is similar to encoder, however it now has two multi-head attention layers. A masked multi-head attention layer over the target sequence, and a multi-head attention layer which uses the decoder representation as the query and the encoder representation as the key and value.\n",
        "\n",
        "The decoder uses positional embeddings and combines - via an elementwise sum - them with the scaled embedded target tokens, followed by dropout. Again, our positional encodings have a \"vocabulary\" of 100, which means they can accept sequences up to 100 tokens long. This can be increased if desired.\n",
        "\n",
        "The combined embeddings are then passed through the $N$ decoder layers, along with the encoded source, enc_src, and the source and target masks. Note that the number of layers in the encoder does not have to be equal to the number of layers in the decoder, even though they are both denoted by $N$.\n",
        "\n",
        "The decoder representation after the $N^{th}$ layer is then passed through a linear layer, fc_out. In PyTorch, the softmax operation is contained within our loss function, so we do not explicitly need to use a softmax layer here.\n",
        "\n",
        "As well as using the source mask, as we did in the encoder to prevent our model attending to <pad> tokens, we also use a target mask. This will be explained further in the Seq2Seq model which encapsulates both the encoder and decoder, but the gist of it is that it performs a similar operation as the decoder padding in the convolutional sequence-to-sequence model. As we are processing all of the target tokens at once in parallel we need a method of stopping the decoder from \"cheating\" by simply \"looking\" at what the next token in the target sequence is and outputting it.\n",
        "\n",
        "Our decoder layer also outputs the normalized attention values so we can later plot them to see what our model is actually paying attention to."
      ]
    },
    {
      "cell_type": "code",
      "metadata": {
        "id": "MnUOqgHBteZv"
      },
      "source": [
        "class Decoder(nn.Module):\n",
        "    def __init__(self, \n",
        "                 output_dim, \n",
        "                 hid_dim, \n",
        "                 n_layers, \n",
        "                 n_heads, \n",
        "                 pf_dim, \n",
        "                 dropout, \n",
        "                 device,\n",
        "                 max_length = 100):\n",
        "        super().__init__()\n",
        "        \n",
        "        self.device = device\n",
        "        \n",
        "        self.tok_embedding = nn.Embedding(output_dim, hid_dim)\n",
        "        self.pos_embedding = nn.Embedding(max_length, hid_dim)\n",
        "        \n",
        "        self.layers = nn.ModuleList([DecoderLayer(hid_dim, \n",
        "                                                  n_heads, \n",
        "                                                  pf_dim, \n",
        "                                                  dropout, \n",
        "                                                  device)\n",
        "                                     for _ in range(n_layers)])\n",
        "        \n",
        "        self.fc_out = nn.Linear(hid_dim, output_dim)\n",
        "        \n",
        "        self.dropout = nn.Dropout(dropout)\n",
        "        \n",
        "        self.scale = torch.sqrt(torch.FloatTensor([hid_dim])).to(device)\n",
        "        \n",
        "    def forward(self, trg, enc_src, trg_mask, src_mask):\n",
        "        \n",
        "        #trg = [batch size, trg len]\n",
        "        #enc_src = [batch size, src len, hid dim]\n",
        "        #trg_mask = [batch size, trg len]\n",
        "        #src_mask = [batch size, src len]\n",
        "                \n",
        "        batch_size = trg.shape[0]\n",
        "        trg_len = trg.shape[1]\n",
        "        \n",
        "        pos = torch.arange(0, trg_len).unsqueeze(0).repeat(batch_size, 1).to(self.device)\n",
        "                            \n",
        "        #pos = [batch size, trg len]\n",
        "            \n",
        "        trg = self.dropout((self.tok_embedding(trg) * self.scale) + self.pos_embedding(pos))\n",
        "                \n",
        "        #trg = [batch size, trg len, hid dim]\n",
        "        \n",
        "        for layer in self.layers:\n",
        "            trg, attention = layer(trg, enc_src, trg_mask, src_mask)\n",
        "        \n",
        "        #trg = [batch size, trg len, hid dim]\n",
        "        #attention = [batch size, n heads, trg len, src len]\n",
        "        \n",
        "        output = self.fc_out(trg)\n",
        "        \n",
        "        #output = [batch size, trg len, output dim]\n",
        "            \n",
        "        return output, attention"
      ],
      "execution_count": null,
      "outputs": []
    },
    {
      "cell_type": "markdown",
      "metadata": {
        "id": "4u2duaeztxaC"
      },
      "source": [
        "### Decoder Layer\n",
        "As mentioned previously, the decoder layer is similar to the encoder layer except that it now has two multi-head attention layers, self_attention and encoder_attention.\n",
        "\n",
        "The first performs self-attention, as in the encoder, by using the decoder representation so far as the query, key and value. This is followed by dropout, residual connection and layer normalization. This self_attention layer uses the target sequence mask, trg_mask, in order to prevent the decoder from \"cheating\" by paying attention to tokens that are \"ahead\" of the one it is currently processing as it processes all tokens in the target sentence in parallel.\n",
        "\n",
        "The second is how we actually feed the encoded source sentence, enc_src, into our decoder. In this multi-head attention layer the queries are the decoder representations and the keys and values are the decoder representations. Here, the source mask, src_mask is used to prevent the multi-head attention layer from attending to <pad> tokens within the source sentence. This is then followed by the dropout, residual connection and layer normalization layers.\n",
        "\n",
        "Finally, we pass this through the position-wise feedforward layer and yet another sequence of dropout, residual connection and layer normalization.\n",
        "\n",
        "The decoder layer isn't introducing any new concepts, just using the same set of layers as the encoder in a slightly different way."
      ]
    },
    {
      "cell_type": "code",
      "metadata": {
        "id": "m5Kbh61sty0F"
      },
      "source": [
        "class DecoderLayer(nn.Module):\n",
        "    def __init__(self, \n",
        "                 hid_dim, \n",
        "                 n_heads, \n",
        "                 pf_dim, \n",
        "                 dropout, \n",
        "                 device):\n",
        "        super().__init__()\n",
        "        \n",
        "        self.self_attn_layer_norm = nn.LayerNorm(hid_dim)\n",
        "        self.enc_attn_layer_norm = nn.LayerNorm(hid_dim)\n",
        "        self.ff_layer_norm = nn.LayerNorm(hid_dim)\n",
        "        self.self_attention = MultiHeadAttentionLayer(hid_dim, n_heads, dropout, device)\n",
        "        self.encoder_attention = MultiHeadAttentionLayer(hid_dim, n_heads, dropout, device)\n",
        "        self.positionwise_feedforward = PositionwiseFeedforwardLayer(hid_dim, \n",
        "                                                                     pf_dim, \n",
        "                                                                     dropout)\n",
        "        self.dropout = nn.Dropout(dropout)\n",
        "        \n",
        "    def forward(self, trg, enc_src, trg_mask, src_mask):\n",
        "        \n",
        "        #trg = [batch size, trg len, hid dim]\n",
        "        #enc_src = [batch size, src len, hid dim]\n",
        "        #trg_mask = [batch size, trg len]\n",
        "        #src_mask = [batch size, src len]\n",
        "        \n",
        "        #self attention\n",
        "        _trg, _ = self.self_attention(trg, trg, trg, trg_mask)\n",
        "        \n",
        "        #dropout, residual connection and layer norm\n",
        "        trg = self.self_attn_layer_norm(trg + self.dropout(_trg))\n",
        "            \n",
        "        #trg = [batch size, trg len, hid dim]\n",
        "            \n",
        "        #encoder attention\n",
        "        _trg, attention = self.encoder_attention(trg, enc_src, enc_src, src_mask)\n",
        "        \n",
        "        #dropout, residual connection and layer norm\n",
        "        trg = self.enc_attn_layer_norm(trg + self.dropout(_trg))\n",
        "                    \n",
        "        #trg = [batch size, trg len, hid dim]\n",
        "        \n",
        "        #positionwise feedforward\n",
        "        _trg = self.positionwise_feedforward(trg)\n",
        "        \n",
        "        #dropout, residual and layer norm\n",
        "        trg = self.ff_layer_norm(trg + self.dropout(_trg))\n",
        "        \n",
        "        #trg = [batch size, trg len, hid dim]\n",
        "        #attention = [batch size, n heads, trg len, src len]\n",
        "        \n",
        "        return trg, attention\n"
      ],
      "execution_count": null,
      "outputs": []
    },
    {
      "cell_type": "markdown",
      "metadata": {
        "id": "6HmvzTGZvmgW"
      },
      "source": [
        "## Seq2Seq"
      ]
    },
    {
      "cell_type": "markdown",
      "metadata": {
        "id": "lPXC6rK0wUd3"
      },
      "source": [
        "Finally, we have the Seq2Seq module which encapsulates the encoder and decoder, as well as handling the creation of the masks.\n",
        "\n",
        "The source mask is created by checking where the source sequence is not equal to a <pad> token. It is 1 where the token is not a <pad> token and 0 when it is. It is then unsqueezed so it can be correctly broadcast when applying the mask to the energy, which of shape [batch size, n heads, seq len, seq len].\n",
        "\n",
        "The target mask is slightly more complicated. First, we create a mask for the <pad> tokens, as we did for the source mask. Next, we create a \"subsequent\" mask, trg_sub_mask, using torch.tril. This creates a diagonal matrix where the elements above the diagonal will be zero and the elements below the diagonal will be set to whatever the input tensor is. In this case, the input tensor will be a tensor filled with ones. So this means our trg_sub_mask will look something like this (for a target with 5 tokens):"
      ]
    },
    {
      "cell_type": "markdown",
      "metadata": {
        "id": "NbgRlXU6wWWo"
      },
      "source": [
        "![image.png](data:image/png;base64,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)"
      ]
    },
    {
      "cell_type": "markdown",
      "metadata": {
        "id": "4xuC166-wYbO"
      },
      "source": [
        "This shows what each target token (row) is allowed to look at (column). The first target token has a mask of [1, 0, 0, 0, 0] which means it can only look at the first target token. The second target token has a mask of [1, 1, 0, 0, 0] which it means it can look at both the first and second target tokens.\n",
        "\n",
        "The \"subsequent\" mask is then logically anded with the padding mask, this combines the two masks ensuring both the subsequent tokens and the padding tokens cannot be attended to. For example if the last two tokens were <pad> tokens the mask would look like:"
      ]
    },
    {
      "cell_type": "markdown",
      "metadata": {
        "id": "OVZExm1ywZ-M"
      },
      "source": [
        "![image.png](data:image/png;base64,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)"
      ]
    },
    {
      "cell_type": "markdown",
      "metadata": {
        "id": "e4GcCgiBwbuV"
      },
      "source": [
        "After the masks are created, they used with the encoder and decoder along with the source and target sentences to get our predicted target sentence, output, along with the decoder's attention over the source sequence."
      ]
    },
    {
      "cell_type": "code",
      "metadata": {
        "id": "hkC5WNfat7RF"
      },
      "source": [
        "class Seq2Seq(nn.Module):\n",
        "    def __init__(self, \n",
        "                 encoder, \n",
        "                 decoder, \n",
        "                 src_pad_idx, \n",
        "                 trg_pad_idx, \n",
        "                 device):\n",
        "        super().__init__()\n",
        "        \n",
        "        self.encoder = encoder\n",
        "        self.decoder = decoder\n",
        "        self.src_pad_idx = src_pad_idx\n",
        "        self.trg_pad_idx = trg_pad_idx\n",
        "        self.device = device\n",
        "        \n",
        "    def make_src_mask(self, src):\n",
        "        \n",
        "        #src = [batch size, src len]\n",
        "        \n",
        "        src_mask = (src != self.src_pad_idx).unsqueeze(1).unsqueeze(2)\n",
        "\n",
        "        #src_mask = [batch size, 1, 1, src len]\n",
        "\n",
        "        return src_mask\n",
        "    \n",
        "    def make_trg_mask(self, trg):\n",
        "        \n",
        "        #trg = [batch size, trg len]\n",
        "        \n",
        "        trg_pad_mask = (trg != self.trg_pad_idx).unsqueeze(1).unsqueeze(2)\n",
        "        \n",
        "        #trg_pad_mask = [batch size, 1, 1, trg len]\n",
        "        \n",
        "        trg_len = trg.shape[1]\n",
        "        \n",
        "        trg_sub_mask = torch.tril(torch.ones((trg_len, trg_len), device = self.device)).bool()\n",
        "        \n",
        "        #trg_sub_mask = [trg len, trg len]\n",
        "            \n",
        "        trg_mask = trg_pad_mask & trg_sub_mask\n",
        "        \n",
        "        #trg_mask = [batch size, 1, trg len, trg len]\n",
        "        \n",
        "        return trg_mask\n",
        "\n",
        "    def forward(self, src, trg):\n",
        "        \n",
        "        #src = [batch size, src len]\n",
        "        #trg = [batch size, trg len]\n",
        "                \n",
        "        src_mask = self.make_src_mask(src)\n",
        "        trg_mask = self.make_trg_mask(trg)\n",
        "        \n",
        "        #src_mask = [batch size, 1, 1, src len]\n",
        "        #trg_mask = [batch size, 1, trg len, trg len]\n",
        "        \n",
        "        enc_src = self.encoder(src, src_mask)\n",
        "        \n",
        "        #enc_src = [batch size, src len, hid dim]\n",
        "                \n",
        "        output, attention = self.decoder(trg, enc_src, trg_mask, src_mask)\n",
        "        \n",
        "        #output = [batch size, trg len, output dim]\n",
        "        #attention = [batch size, n heads, trg len, src len]\n",
        "        \n",
        "        return output, attention"
      ],
      "execution_count": null,
      "outputs": []
    },
    {
      "cell_type": "markdown",
      "metadata": {
        "id": "rwdZUZFrwf7E"
      },
      "source": [
        "## Training the Seq2Seq Model\n",
        "We can now define our encoder and decoders. This model is significantly smaller than Transformers used in research today, but is able to be run on a single GPU quickly."
      ]
    },
    {
      "cell_type": "code",
      "metadata": {
        "id": "i1cDJqWSweJA"
      },
      "source": [
        "INPUT_DIM = len(SRC.vocab)\n",
        "OUTPUT_DIM = len(TRG.vocab)\n",
        "HID_DIM = 256\n",
        "ENC_LAYERS = 3\n",
        "DEC_LAYERS = 3\n",
        "ENC_HEADS = 8\n",
        "DEC_HEADS = 8\n",
        "ENC_PF_DIM = 512\n",
        "DEC_PF_DIM = 512\n",
        "ENC_DROPOUT = 0.1\n",
        "DEC_DROPOUT = 0.1\n",
        "\n",
        "enc = Encoder(INPUT_DIM, \n",
        "              HID_DIM, \n",
        "              ENC_LAYERS, \n",
        "              ENC_HEADS, \n",
        "              ENC_PF_DIM, \n",
        "              ENC_DROPOUT, \n",
        "              device)\n",
        "\n",
        "dec = Decoder(OUTPUT_DIM, \n",
        "              HID_DIM, \n",
        "              DEC_LAYERS, \n",
        "              DEC_HEADS, \n",
        "              DEC_PF_DIM, \n",
        "              DEC_DROPOUT, \n",
        "              device)"
      ],
      "execution_count": null,
      "outputs": []
    },
    {
      "cell_type": "markdown",
      "metadata": {
        "id": "gouSOw-vwnGI"
      },
      "source": [
        "\n",
        "Then, use them to define our whole sequence-to-sequence encapsulating model."
      ]
    },
    {
      "cell_type": "code",
      "metadata": {
        "id": "3e9u9CsKwjtr"
      },
      "source": [
        "\n",
        "SRC_PAD_IDX = SRC.vocab.stoi[SRC.pad_token]\n",
        "TRG_PAD_IDX = TRG.vocab.stoi[TRG.pad_token]\n",
        "\n",
        "model = Seq2Seq(enc, dec, SRC_PAD_IDX, TRG_PAD_IDX, device).to(device)"
      ],
      "execution_count": null,
      "outputs": []
    },
    {
      "cell_type": "markdown",
      "metadata": {
        "id": "PjbE6GfKwqgC"
      },
      "source": [
        "\n",
        "We can check the number of parameters, noticing it is significantly less than the 37M for the convolutional sequence-to-sequence model."
      ]
    },
    {
      "cell_type": "code",
      "metadata": {
        "id": "b82W9t0kwpAv"
      },
      "source": [
        "\n",
        "def count_parameters(model):\n",
        "    return sum(p.numel() for p in model.parameters() if p.requires_grad)\n",
        "\n",
        "print(f'The model has {count_parameters(model):,} trainable parameters')"
      ],
      "execution_count": null,
      "outputs": []
    },
    {
      "cell_type": "markdown",
      "metadata": {
        "id": "vxiOAiZVwu6t"
      },
      "source": [
        "The paper does not mention which weight initialization scheme was used, however Xavier uniform seems to be common amongst Transformer models, so we use it here."
      ]
    },
    {
      "cell_type": "code",
      "metadata": {
        "id": "wTA9COs9wvPI"
      },
      "source": [
        "def initialize_weights(m):\n",
        "    if hasattr(m, 'weight') and m.weight.dim() > 1:\n",
        "        nn.init.xavier_uniform_(m.weight.data)"
      ],
      "execution_count": null,
      "outputs": []
    },
    {
      "cell_type": "code",
      "metadata": {
        "id": "pMy73O3Swz_K"
      },
      "source": [
        "model.apply(initialize_weights);\n"
      ],
      "execution_count": null,
      "outputs": []
    },
    {
      "cell_type": "markdown",
      "metadata": {
        "id": "PkrxF73Ew2_r"
      },
      "source": [
        "The optimizer used in the original Transformer paper uses Adam with a learning rate that has a \"warm-up\" and then a \"cool-down\" period. BERT and other Transformer models use Adam with a fixed learning rate, so we will implement that. Check this link for more details about the original Transformer's learning rate schedule.\n",
        "\n",
        "Note that the learning rate needs to be lower than the default used by Adam or else learning is unstable."
      ]
    },
    {
      "cell_type": "code",
      "metadata": {
        "id": "Lhi76RCXw1P2"
      },
      "source": [
        "LEARNING_RATE = 0.0005\n",
        "\n",
        "optimizer = torch.optim.Adam(model.parameters(), lr = LEARNING_RATE)"
      ],
      "execution_count": null,
      "outputs": []
    },
    {
      "cell_type": "markdown",
      "metadata": {
        "id": "jAQay7JKw6iZ"
      },
      "source": [
        "Next, we define our loss function, making sure to ignore losses calculated over <pad> tokens.\n",
        "\n"
      ]
    },
    {
      "cell_type": "code",
      "metadata": {
        "id": "6DII2hCbw5Wj"
      },
      "source": [
        "criterion = nn.CrossEntropyLoss(ignore_index = TRG_PAD_IDX)\n"
      ],
      "execution_count": null,
      "outputs": []
    },
    {
      "cell_type": "markdown",
      "metadata": {
        "id": "y28pS30aw-xy"
      },
      "source": [
        "\n",
        "Then, we'll define our training loop. This is the exact same as the one used in the previous tutorial.\n",
        "\n",
        "As we want our model to predict the <eos> token but not have it be an input into our model we simply slice the <eos> token off the end of the sequence. Thus:"
      ]
    },
    {
      "cell_type": "markdown",
      "metadata": {
        "id": "BAsvl2kexA-F"
      },
      "source": [
        "![image.png](data:image/png;base64,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)"
      ]
    },
    {
      "cell_type": "markdown",
      "metadata": {
        "id": "70PvoYUjxDXS"
      },
      "source": [
        "$x_i$ denotes actual target sequence element. We then feed this into the model to get a predicted sequence that should hopefully predict the <eos> token:"
      ]
    },
    {
      "cell_type": "markdown",
      "metadata": {
        "id": "j6iVrofLxFKF"
      },
      "source": [
        "![image.png](data:image/png;base64,iVBORw0KGgoAAAANSUhEUgAAALcAAAAbCAYAAAA+sB4KAAAFCUlEQVR4Ae3YDbHsRBAF4JGABCTgAByAA3AADsABOAAH4AAcgANwAA6gvvdyqH59k9xkN/e+hZquSk1mpn9Pn0yyO8aUicBEYCIwEZgITAQmAhOBicBEYCIwEZgITAReBIFPxhhfjzG+eBHv0+lZBPRBPz48azj1nyLwzdOlufIACDh0ptyJwCT3nQC+kPlDkfuzi4v0WvroYp9r7ia511B5/2sPQ27fSb9ciMcHY4xfxxivUeAk94WNu9DVpb138n41xvhujPHtGAPBiCA/Levm9Mx/frv95nT9a4zxxxgDUXLi8sH2+0XXjwQ+XfTYO5nNxTTPj7ofxhh/jzGMWVvCXT6skVveX7aHS91X/MiJ7/pWgnvwvrdAOX68/CiLL77Vc7WoBX6fbziGmf5t7avbJd+OLd+XCHLVJps7OQO4U7mezHSRL1L32Ug45JSkIj0AyEqs2a8FmCeHtf3F9MkAFA/Oc1cHL44SM3MjXbnCINIxyvrZET4Oh2DBHn5reZz1TZ9/+cM7B0PmWxicjSNGPYz0zlpEHDXlAYadq4p6s+a+coFen1fbw/cSkVwSYShRa0hKKnnNJWM/0vet268JVps18tKnQ9b2l60ng/zZPXdtNTYxu+PgEjuYhCxd9+zcw17xU2/F/6y/NX3E8RBFrsqdv99Kr9RiHoHT7w0rPPozCssotx+Xe7XXh8Ny5U4zPT4NkdLEWEo44HTyIkRtTt/no5M7cYz1PvFuJXfsbx23yM0fDPKAI0dtALw6ZmdycLIiBkmMZfoGn3v/6w3G8VnJrQ6fKa5aU3T3RrnKXe3sPUTVh7lP1Cow7mvJr+ZVbezfLQnSnSFsXp2dvPeQW8JrMW8lN5Cf+yTZI8oeuXP6aV5tgpia1TE70wwHh9h8h+TskUesSqIzfqtuDhj+KwHFlbv+psfVbu8+h54c1x5uxO+YsoFlF2tO9DU/92D7bxxFryWkeWmoRiB4RPKAi3TyWw+w0eErPq4kt1da4u+NW6/93ojka0SKvGIrOeyJdU8DkJcPY5XqU/P38qt2a/f8s08f6agjtYh1ltz1EFqLab8+rGLgV2KyST7WOk/is+KQtZvGnBJJQPB8knBo3xP26fLLF+iSMicARAIJ5Sm0n8bx28mgYP+k+KXMnr5vsGrvxL2syCXXPuyRZw/8tXrqD9Aep8/VBdO9+uCcfSOMrB0VtTk109duh9jB28N/xD9e+DHJpwtXqv96KFqn3w8W2EXoJ4esGVN3Xbv5njPASTakjDNJAkpSnkrJ0ktSKaLaAYoNn8ZeoHgKt88e0LUg/q11u+R01Si3PakPedXr5FaHRqnliNBjsyV9H9b0t/JZ86O2imnV0Ss1ICrhH96VeMvWO0N6RY+PXm/ytLe2r5/qkNteflt5v5PM+5og90MnuACzR+7+rVqx7OS2t+er2rpfa3zVWdtHjKMxkM4B8Zw42SNsxH0EeVjuAOm/Sm4EQuq8obYa3cmNSP0U67Z8x3/eel3HvBK76h0hHh028j8i9U1wxP8Rn1foPCS5Ndi3MnL7ptbMR5Z+EiKphj+XtxPvKIFSv1h87z0EdHy7+1xw7X26xG8d+e811X3E15c8AEdO92r/WvcPSe7XKv6qOEBEhjNNRnx2rj2i3pJj/GasJ/ct/tZs4vvq3NdinV3TB/14ibrP5jL1JwITgYnARGAiMBGYCEwEJgITgYnAROD/iMA/cbAqJ8yYDCEAAAAASUVORK5CYII=)"
      ]
    },
    {
      "cell_type": "markdown",
      "metadata": {
        "id": "amY2IeESxHjl"
      },
      "source": [
        "$y_i$ denotes predicted target sequence element. We then calculate our loss using the original trg tensor with the <sos> token sliced off the front, leaving the <eos> token:"
      ]
    },
    {
      "cell_type": "markdown",
      "metadata": {
        "id": "V5wOj0XexJaA"
      },
      "source": [
        "![image.png](data:image/png;base64,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)"
      ]
    },
    {
      "cell_type": "markdown",
      "metadata": {
        "id": "JJbv8xflxMNt"
      },
      "source": [
        "We then calculate our losses and update our parameters as is standard.\n",
        "\n"
      ]
    },
    {
      "cell_type": "code",
      "metadata": {
        "id": "v6c1I_UPw8NF"
      },
      "source": [
        "def train(model, iterator, optimizer, criterion, clip):\n",
        "    \n",
        "    model.train()\n",
        "    \n",
        "    epoch_loss = 0\n",
        "    \n",
        "    for i, batch in enumerate(iterator):\n",
        "        \n",
        "        src = batch.src\n",
        "        trg = batch.trg\n",
        "        \n",
        "        optimizer.zero_grad()\n",
        "        \n",
        "        output, _ = model(src, trg[:,:-1])\n",
        "                \n",
        "        #output = [batch size, trg len - 1, output dim]\n",
        "        #trg = [batch size, trg len]\n",
        "            \n",
        "        output_dim = output.shape[-1]\n",
        "            \n",
        "        output = output.contiguous().view(-1, output_dim)\n",
        "        trg = trg[:,1:].contiguous().view(-1)\n",
        "                \n",
        "        #output = [batch size * trg len - 1, output dim]\n",
        "        #trg = [batch size * trg len - 1]\n",
        "            \n",
        "        loss = criterion(output, trg)\n",
        "        \n",
        "        loss.backward()\n",
        "        \n",
        "        torch.nn.utils.clip_grad_norm_(model.parameters(), clip)\n",
        "        \n",
        "        optimizer.step()\n",
        "        \n",
        "        epoch_loss += loss.item()\n",
        "        \n",
        "    return epoch_loss / len(iterator)"
      ],
      "execution_count": null,
      "outputs": []
    },
    {
      "cell_type": "markdown",
      "metadata": {
        "id": "oQqStNiexTat"
      },
      "source": [
        "\n",
        "The evaluation loop is the same as the training loop, just without the gradient calculations and parameter updates."
      ]
    },
    {
      "cell_type": "code",
      "metadata": {
        "id": "x6T2yli0xPwj"
      },
      "source": [
        "def evaluate(model, iterator, criterion):\n",
        "    \n",
        "    model.eval()\n",
        "    \n",
        "    epoch_loss = 0\n",
        "    \n",
        "    with torch.no_grad():\n",
        "    \n",
        "        for i, batch in enumerate(iterator):\n",
        "\n",
        "            src = batch.src\n",
        "            trg = batch.trg\n",
        "\n",
        "            output, _ = model(src, trg[:,:-1])\n",
        "            \n",
        "            #output = [batch size, trg len - 1, output dim]\n",
        "            #trg = [batch size, trg len]\n",
        "            \n",
        "            output_dim = output.shape[-1]\n",
        "            \n",
        "            output = output.contiguous().view(-1, output_dim)\n",
        "            trg = trg[:,1:].contiguous().view(-1)\n",
        "            \n",
        "            #output = [batch size * trg len - 1, output dim]\n",
        "            #trg = [batch size * trg len - 1]\n",
        "            \n",
        "            loss = criterion(output, trg)\n",
        "\n",
        "            epoch_loss += loss.item()\n",
        "        \n",
        "    return epoch_loss / len(iterator)"
      ],
      "execution_count": null,
      "outputs": []
    },
    {
      "cell_type": "markdown",
      "metadata": {
        "id": "Q_wUYUTYxY1e"
      },
      "source": [
        "We then define a small function that we can use to tell us how long an epoch takes.\n",
        "\n"
      ]
    },
    {
      "cell_type": "code",
      "metadata": {
        "id": "Xd9-08JmxZIJ"
      },
      "source": [
        "def epoch_time(start_time, end_time):\n",
        "    elapsed_time = end_time - start_time\n",
        "    elapsed_mins = int(elapsed_time / 60)\n",
        "    elapsed_secs = int(elapsed_time - (elapsed_mins * 60))\n",
        "    return elapsed_mins, elapsed_secs"
      ],
      "execution_count": null,
      "outputs": []
    },
    {
      "cell_type": "markdown",
      "metadata": {
        "id": "kJdhAglcxbsT"
      },
      "source": [
        "Finally, we train our actual model. This model is almost 3x faster than the convolutional sequence-to-sequence model and also achieves a lower validation perplexity!"
      ]
    },
    {
      "cell_type": "code",
      "metadata": {
        "id": "nuysAp19xcE5"
      },
      "source": [
        "N_EPOCHS = 10\n",
        "CLIP = 1\n",
        "\n",
        "best_valid_loss = float('inf')\n",
        "\n",
        "for epoch in range(N_EPOCHS):\n",
        "    \n",
        "    start_time = time.time()\n",
        "    \n",
        "    train_loss = train(model, train_iterator, optimizer, criterion, CLIP)\n",
        "    valid_loss = evaluate(model, valid_iterator, criterion)\n",
        "    \n",
        "    end_time = time.time()\n",
        "    \n",
        "    epoch_mins, epoch_secs = epoch_time(start_time, end_time)\n",
        "    \n",
        "    if valid_loss < best_valid_loss:\n",
        "        best_valid_loss = valid_loss\n",
        "        torch.save(model.state_dict(), 'tut6-model.pt')\n",
        "    \n",
        "    print(f'Epoch: {epoch+1:02} | Time: {epoch_mins}m {epoch_secs}s')\n",
        "    print(f'\\tTrain Loss: {train_loss:.3f} | Train PPL: {math.exp(train_loss):7.3f}')\n",
        "    print(f'\\t Val. Loss: {valid_loss:.3f} |  Val. PPL: {math.exp(valid_loss):7.3f}')"
      ],
      "execution_count": null,
      "outputs": []
    },
    {
      "cell_type": "code",
      "metadata": {
        "id": "gsJMKscKxhPP"
      },
      "source": [
        "model.load_state_dict(torch.load('tut6-model.pt'))\n",
        "\n",
        "test_loss = evaluate(model, test_iterator, criterion)\n",
        "\n",
        "print(f'| Test Loss: {test_loss:.3f} | Test PPL: {math.exp(test_loss):7.3f} |')\n"
      ],
      "execution_count": null,
      "outputs": []
    },
    {
      "cell_type": "markdown",
      "metadata": {
        "id": "Jsf1mbrExmp0"
      },
      "source": [
        "# Inference\n",
        "Now we can see translations from our model with the translate_sentence function below.\n",
        "\n",
        "The steps taken are:\n",
        "\n",
        "* tokenize the source sentence if it has not been tokenized (is a string)\n",
        "* append the <sos> and <eos> tokens\n",
        "* numericalize the source sentence\n",
        "* convert it to a tensor and add a batch dimension\n",
        "* create the source sentence mask\n",
        "* feed the source sentence and mask into the encoder\n",
        "* create a list to hold the output sentence, initialized with an <sos> token\n",
        "* while we have not hit a maximum length\n",
        "    * convert the current output sentence prediction into a tensor with a batch dimension\n",
        "    * create a target sentence mask\n",
        "    * place the current output, encoder output and both masks into the decoder\n",
        "    * get next output token prediction from decoder along with attention\n",
        "    * add prediction to current output sentence prediction\n",
        "    * break if the prediction was an <eos> token\n",
        "* convert the output sentence from indexes to tokens\n",
        "* return the output sentence (with the <sos> token removed) and the attention from the last layer"
      ]
    },
    {
      "cell_type": "code",
      "metadata": {
        "id": "EvzVXK7Kxo-Z"
      },
      "source": [
        "def translate_sentence(sentence, src_field, trg_field, model, device, max_len = 50):\n",
        "    \n",
        "    model.eval()\n",
        "        \n",
        "    if isinstance(sentence, str):\n",
        "        nlp = spacy.load('de')\n",
        "        tokens = [token.text.lower() for token in nlp(sentence)]\n",
        "    else:\n",
        "        tokens = [token.lower() for token in sentence]\n",
        "\n",
        "    tokens = [src_field.init_token] + tokens + [src_field.eos_token]\n",
        "        \n",
        "    src_indexes = [src_field.vocab.stoi[token] for token in tokens]\n",
        "\n",
        "    src_tensor = torch.LongTensor(src_indexes).unsqueeze(0).to(device)\n",
        "    \n",
        "    src_mask = model.make_src_mask(src_tensor)\n",
        "    \n",
        "    with torch.no_grad():\n",
        "        enc_src = model.encoder(src_tensor, src_mask)\n",
        "\n",
        "    trg_indexes = [trg_field.vocab.stoi[trg_field.init_token]]\n",
        "\n",
        "    for i in range(max_len):\n",
        "\n",
        "        trg_tensor = torch.LongTensor(trg_indexes).unsqueeze(0).to(device)\n",
        "\n",
        "        trg_mask = model.make_trg_mask(trg_tensor)\n",
        "        \n",
        "        with torch.no_grad():\n",
        "            output, attention = model.decoder(trg_tensor, enc_src, trg_mask, src_mask)\n",
        "        \n",
        "        pred_token = output.argmax(2)[:,-1].item()\n",
        "        \n",
        "        trg_indexes.append(pred_token)\n",
        "\n",
        "        if pred_token == trg_field.vocab.stoi[trg_field.eos_token]:\n",
        "            break\n",
        "    \n",
        "    trg_tokens = [trg_field.vocab.itos[i] for i in trg_indexes]\n",
        "    \n",
        "    return trg_tokens[1:], attention"
      ],
      "execution_count": null,
      "outputs": []
    },
    {
      "cell_type": "markdown",
      "metadata": {
        "id": "ZkE4a0r8yVf6"
      },
      "source": [
        "We'll now define a function that displays the attention over the source sentence for each step of the decoding. As this model has 8 heads our model we can view the attention for each of the heads."
      ]
    },
    {
      "cell_type": "code",
      "metadata": {
        "id": "iRzJTCoAyWNP"
      },
      "source": [
        "def display_attention(sentence, translation, attention, n_heads = 8, n_rows = 4, n_cols = 2):\n",
        "    \n",
        "    assert n_rows * n_cols == n_heads\n",
        "    \n",
        "    fig = plt.figure(figsize=(15,25))\n",
        "    \n",
        "    for i in range(n_heads):\n",
        "        \n",
        "        ax = fig.add_subplot(n_rows, n_cols, i+1)\n",
        "        \n",
        "        _attention = attention.squeeze(0)[i].cpu().detach().numpy()\n",
        "\n",
        "        cax = ax.matshow(_attention, cmap='bone')\n",
        "\n",
        "        ax.tick_params(labelsize=12)\n",
        "        ax.set_xticklabels(['']+['<sos>']+[t.lower() for t in sentence]+['<eos>'], \n",
        "                           rotation=45)\n",
        "        ax.set_yticklabels(['']+translation)\n",
        "\n",
        "        ax.xaxis.set_major_locator(ticker.MultipleLocator(1))\n",
        "        ax.yaxis.set_major_locator(ticker.MultipleLocator(1))\n",
        "\n",
        "    plt.show()\n",
        "    plt.close()"
      ],
      "execution_count": null,
      "outputs": []
    },
    {
      "cell_type": "markdown",
      "metadata": {
        "id": "jjhKWhHJybB2"
      },
      "source": [
        "\n",
        "Let's get  an example from the training set."
      ]
    },
    {
      "cell_type": "code",
      "metadata": {
        "id": "SutOphlkyY0r"
      },
      "source": [
        "example_idx = 8\n",
        "\n",
        "src = vars(train_data.examples[example_idx])['src']\n",
        "trg = vars(train_data.examples[example_idx])['trg']\n",
        "\n",
        "print(f'src = {src}')\n",
        "print(f'trg = {trg}')"
      ],
      "execution_count": null,
      "outputs": []
    },
    {
      "cell_type": "code",
      "metadata": {
        "id": "WImewbKdylmy"
      },
      "source": [
        "translation, attention = translate_sentence(src, SRC, TRG, model, device)\n",
        "\n",
        "print(f'predicted trg = {translation}')"
      ],
      "execution_count": null,
      "outputs": []
    },
    {
      "cell_type": "markdown",
      "metadata": {
        "id": "z6_pov0JyoOp"
      },
      "source": [
        "We can see the attention from each head below. Each is certainly different, but it's difficult (perhaps impossible) to reason about what head has actually learned to pay attention to. Some heads pay full attention to \"eine\" when translating \"a\", some don't at all, and some do a little. They all seem to follow the similar \"downward staircase\" pattern and the attention when outputting the last two tokens is equally spread over the final two tokens in the input sentence."
      ]
    },
    {
      "cell_type": "code",
      "metadata": {
        "id": "HOeIDUytyouV"
      },
      "source": [
        "display_attention(src, translation, attention)\n"
      ],
      "execution_count": null,
      "outputs": []
    },
    {
      "cell_type": "markdown",
      "metadata": {
        "id": "T8rG_dePy0L7"
      },
      "source": [
        "Next, let's get an example the model has not been trained on from the validation set.\n",
        "\n"
      ]
    },
    {
      "cell_type": "code",
      "metadata": {
        "id": "-i_3enDXy07t"
      },
      "source": [
        "example_idx = 6\n",
        "\n",
        "src = vars(valid_data.examples[example_idx])['src']\n",
        "trg = vars(valid_data.examples[example_idx])['trg']\n",
        "\n",
        "print(f'src = {src}')\n",
        "print(f'trg = {trg}')"
      ],
      "execution_count": null,
      "outputs": []
    },
    {
      "cell_type": "markdown",
      "metadata": {
        "id": "oY0cWh_uy4Sv"
      },
      "source": [
        "The model translates it by switching is running to just running, but it is an acceptable swap."
      ]
    },
    {
      "cell_type": "code",
      "metadata": {
        "id": "1ckVioQvy42H"
      },
      "source": [
        "translation, attention = translate_sentence(src, SRC, TRG, model, device)\n",
        "\n",
        "print(f'predicted trg = {translation}')"
      ],
      "execution_count": null,
      "outputs": []
    },
    {
      "cell_type": "markdown",
      "metadata": {
        "id": "y_IS4lFfy9ha"
      },
      "source": [
        "Again, some heads pay full attention to \"ein\" whilst some pay no attention to it. Again, most of the heads seem to spread their attention over both the period and <eos> tokens in the source sentence when outputting the period and <eos> sentence in the predicted target sentence, though some seem to pay attention to tokens from near the start of the sentence."
      ]
    },
    {
      "cell_type": "code",
      "metadata": {
        "id": "UsLvxJkmy-Lc"
      },
      "source": [
        "display_attention(src, translation, attention)\n"
      ],
      "execution_count": null,
      "outputs": []
    },
    {
      "cell_type": "markdown",
      "metadata": {
        "id": "8zM3y-WZzFAD"
      },
      "source": [
        "## look at an example from the test data."
      ]
    },
    {
      "cell_type": "code",
      "metadata": {
        "id": "5CG-p0mpzFst"
      },
      "source": [
        "example_idx = 10\n",
        "\n",
        "src = vars(test_data.examples[example_idx])['src']\n",
        "trg = vars(test_data.examples[example_idx])['trg']\n",
        "\n",
        "print(f'src = {src}')\n",
        "print(f'trg = {trg}')"
      ],
      "execution_count": null,
      "outputs": []
    },
    {
      "cell_type": "markdown",
      "metadata": {
        "id": "K4OHVc66zJc6"
      },
      "source": [
        "A decent translation with young being omitted."
      ]
    },
    {
      "cell_type": "code",
      "metadata": {
        "id": "qNAHcUhVzKJ7"
      },
      "source": [
        "\n",
        "translation, attention = translate_sentence(src, SRC, TRG, model, device)\n",
        "\n",
        "print(f'predicted trg = {translation}')"
      ],
      "execution_count": null,
      "outputs": []
    },
    {
      "cell_type": "code",
      "metadata": {
        "id": "pM8ScWJUzO76"
      },
      "source": [
        "display_attention(src, translation, attention)\n"
      ],
      "execution_count": null,
      "outputs": []
    },
    {
      "cell_type": "code",
      "metadata": {
        "id": "zyNHgy-G2ORy"
      },
      "source": [
        ""
      ],
      "execution_count": null,
      "outputs": []
    }
  ]
}